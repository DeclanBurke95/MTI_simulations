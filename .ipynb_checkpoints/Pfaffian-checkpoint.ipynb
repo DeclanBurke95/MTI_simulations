{
 "cells": [
  {
   "cell_type": "code",
   "execution_count": 4,
   "id": "61f7902f-0e78-4752-859f-5239771389e2",
   "metadata": {},
   "outputs": [],
   "source": [
    "from pfapack import pfaffian as cpf\n",
    "import adaptive\n",
    "from systems import get_mti_hamiltonian\n",
    "import numpy as np\n",
    "from operator import itemgetter\n",
    "from systems import make_lead\n",
    "from funcs import get_default_params\n",
    "import pandas as pd"
   ]
  },
  {
   "cell_type": "code",
   "execution_count": null,
   "id": "7661ad0c-7775-46f4-a90f-083b2632493e",
   "metadata": {},
   "outputs": [
    {
     "data": {
      "text/plain": [
       "'-mu * kron(sigma_z, sigma_0, sigma_0) +hbar * vF * k_y * kron(sigma_0, sigma_x, sigma_z) - hbar * vF * k_x * kron(sigma_z, sigma_y, sigma_z) + {m} * kron(sigma_z, sigma_0, sigma_x) + Msysz * kron(sigma_z, sigma_z, sigma_0) +  - re({Delta}) * (kron(sigma_y, sigma_y,sigma_0) + kron(sigma_y, sigma_y,sigma_z))/2 - im({Delta}) * (kron(sigma_x, sigma_y,sigma_0) + kron(sigma_x, sigma_y,sigma_z))/2'"
      ]
     },
     "execution_count": 2,
     "metadata": {},
     "output_type": "execute_result"
    }
   ],
   "source": [
    "# get_mti_hamiltonian(ph_symmetry=True, disorder=False)"
   ]
  },
  {
   "cell_type": "code",
   "execution_count": null,
   "id": "405503a7-a58f-4648-af5e-083cb4f95262",
   "metadata": {},
   "outputs": [],
   "source": [
    "default_params = dict(\n",
    "    hbar=1,\n",
    "    mu=0.045,\n",
    "    V=0,\n",
    "    mu_m=1.6,\n",
    "    vF=3,#for Bi2Se3-based 3DTI, 10^15 canceled out with hbar\n",
    "    m0=-0.005,\n",
    "    m1=15,\n",
    "    Msysz=0.03,\n",
    "    Msysx=.0,\n",
    "    Msysy=.0,\n",
    "    Mz=0.1,\n",
    "    Mx=.0,\n",
    "    My=.0,\n",
    "    a=10,\n",
    "    phi_0=1.0,\n",
    "    exp=np.exp,\n",
    "    Smag_imp=0.0,\n",
    "    Smag_mimp=.0,\n",
    "    Stheta_mimp=np.pi/2,\n",
    "    Sphi_mimp=.0,\n",
    "    re=lambda x: x.real,\n",
    "    im=lambda x: x.imag,\n",
    "    Delta=0.005\n",
    ")"
   ]
  },
  {
   "cell_type": "code",
   "execution_count": null,
   "id": "2a14b0a7-152f-42bf-a20c-b0806a9653ff",
   "metadata": {},
   "outputs": [],
   "source": [
    "params = dict(\n",
    "hbar=1,\n",
    "mu=0.045,\n",
    "V=0,\n",
    "mu_m=1.6,\n",
    "vF=3,#for Bi2Se3-based 3DTI, 10^15 canceled out with hbar\n",
    "m0=-0.005,\n",
    "m1=15,\n",
    "Msysz=0.03,\n",
    "Msysx=.0,\n",
    "Msysy=.0,\n",
    "Mz=0.1,\n",
    "Mx=.0,\n",
    "My=.0,\n",
    "a=10,\n",
    "phi_0=1.0,\n",
    "exp=np.exp,\n",
    "Smag_imp=0.0,\n",
    "Smag_mimp=.0,\n",
    "Stheta_mimp=np.pi/2,\n",
    "Sphi_mimp=.0,\n",
    "re=lambda x: x.real,\n",
    "im=lambda x: x.imag,\n",
    "Delta=0.005\n",
    ")"
   ]
  },
  {
   "cell_type": "code",
   "execution_count": 3,
   "id": "81917741-c81e-497b-87d8-63f8a263d910",
   "metadata": {},
   "outputs": [],
   "source": [
    "import funcs\n",
    "import adaptive\n",
    "import kwant \n",
    "import kwant.continuum\n",
    "import warnings\n",
    "from systems import make_lead\n",
    "def majorana_num(xy, W, Delta):\n",
    "    warnings.filterwarnings(\"ignore\", category=np.ComplexWarning)\n",
    "    # params = default_params.copy()\n",
    "    \n",
    "    import importlib\n",
    "    import time    \n",
    "    parmas=get_default_params\n",
    "    # importlib.reload(funcs)\n",
    "\n",
    "    a=10    \n",
    "    lead = make_lead(W)\n",
    "    params[\"Delta\"] = Delta\n",
    "    params[\"Msysz\"], params[\"mu\"] = xy\n",
    "\n",
    "    \n",
    "    return dict(mn=funcs.majorana_num2(lead, params))"
   ]
  },
  {
   "cell_type": "code",
   "execution_count": 46,
   "id": "81a00b81-ce3c-428a-8eae-41397338c693",
   "metadata": {
    "tags": []
   },
   "outputs": [],
   "source": [
    "pfaf_combos = {\n",
    "    'Delta': [0.005],\n",
    "    'W': [400]\n",
    "}\n",
    "\n",
    "learner_type = adaptive.make_datasaver(adaptive.Learner2D, arg_picker=itemgetter('mn'))\n",
    "pfaf_learner = adaptive.BalancingLearner.from_product(\n",
    "    majorana_num, \n",
    "    learner_type, \n",
    "    dict(bounds=[(0, 0.05), (0.0,0.05)]),\n",
    "    pfaf_combos\n",
    ")"
   ]
  },
  {
   "cell_type": "code",
   "execution_count": 47,
   "id": "a37d8507-ec7d-4772-be6c-6ec3f1f59082",
   "metadata": {},
   "outputs": [],
   "source": [
    "pfaf_runner = adaptive.Runner(pfaf_learner)"
   ]
  },
  {
   "cell_type": "code",
   "execution_count": 53,
   "id": "f9f7a7bd-931c-4aeb-8878-0160ddc667ec",
   "metadata": {},
   "outputs": [
    {
     "name": "stdout",
     "output_type": "stream",
     "text": [
      "36\n"
     ]
    }
   ],
   "source": [
    "print(len(pfaf_learner.data))"
   ]
  },
  {
   "cell_type": "code",
   "execution_count": 54,
   "id": "2029cf0c-181e-4acb-abb1-8b054069bbae",
   "metadata": {},
   "outputs": [],
   "source": [
    "xys_mn, zs_mn = zip(*sorted(pfaf_learner.learners[0].data.items()))"
   ]
  },
  {
   "cell_type": "code",
   "execution_count": 55,
   "id": "b995c4f7-ff0a-466e-9c7f-6700717afc3f",
   "metadata": {},
   "outputs": [],
   "source": [
    "xys_mn=1000*np.array(xys_mn)\n",
    "zs_mn=np.array(zs_mn)"
   ]
  },
  {
   "cell_type": "code",
   "execution_count": 56,
   "id": "fa306f39-5342-4012-bbc1-82ce4d452066",
   "metadata": {},
   "outputs": [
    {
     "data": {
      "image/png": "[encoded data removed]",
      "text/plain": [
       "<Figure size 432x288 with 2 Axes>"
      ]
     },
     "metadata": {
      "needs_background": "light"
     },
     "output_type": "display_data"
    }
   ],
   "source": [
    "from scipy.interpolate import NearestNDInterpolator\n",
    "import matplotlib.pyplot as plt\n",
    "X = np.linspace(0, 50, 501)\n",
    "Y = np.linspace(0, 50, 501)\n",
    "X, Y = np.meshgrid(X, Y)  # 2D grid for interpolation\n",
    "interp = NearestNDInterpolator(xys_mn, zs_mn)\n",
    "Z = interp(X, Y)\n",
    "# plt.pcolormesh(X, Y, Z, shading='auto')\n",
    "cs = plt.pcolormesh(X, Y, Z)\n",
    "# plt.legend()\n",
    "# plt.xlim(0,0.05)\n",
    "plt.colorbar()\n",
    "plt.show()"
   ]
  },
  {
   "cell_type": "code",
   "execution_count": null,
   "id": "8181ea55-bdcd-4007-bd14-cf9dc5b034c5",
   "metadata": {},
   "outputs": [],
   "source": []
  }
 ],
 "metadata": {
  "kernelspec": {
   "display_name": "Python 3",
   "language": "python",
   "name": "python3"
  },
  "language_info": {
   "codemirror_mode": {
    "name": "ipython",
    "version": 3
   },
   "file_extension": ".py",
   "mimetype": "text/x-python",
   "name": "python",
   "nbconvert_exporter": "python",
   "pygments_lexer": "ipython3",
   "version": "3.7.6"
  }
 },
 "nbformat": 4,
 "nbformat_minor": 5
}
