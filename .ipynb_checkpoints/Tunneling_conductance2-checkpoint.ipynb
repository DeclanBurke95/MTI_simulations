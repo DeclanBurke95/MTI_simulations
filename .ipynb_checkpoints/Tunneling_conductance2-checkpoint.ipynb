{
 "cells": [
  {
   "cell_type": "code",
   "execution_count": 1,
   "id": "ae0229e9-3aee-43ac-8b4c-602bc34ae32a",
   "metadata": {},
   "outputs": [
    {
     "name": "stderr",
     "output_type": "stream",
     "text": [
      "/Users/declanburke/opt/anaconda3/lib/python3.7/site-packages/kwant/solvers/default.py:18: RuntimeWarning: MUMPS is not available, SciPy built-in solver will be used as a fallback. Performance can be very poor in this case.\n",
      "  \"Performance can be very poor in this case.\", RuntimeWarning)\n"
     ]
    }
   ],
   "source": [
    "from systems import get_disorder\n",
    "from systems import get_S_imp\n",
    "# from systems import get_disorder_imp\n",
    "from systems import get_mti_hamiltonian\n",
    "from systems import syst_create_smti_tunnelling\n",
    "from systems import get_S_imp\n",
    "from funcs import tun_con\n",
    "import numpy as np\n",
    "# disorder=get_disorder(2, 35, 11000, 400, 1, 1000)"
   ]
  },
  {
   "cell_type": "code",
   "execution_count": 2,
   "id": "a34725d4-221d-40e1-aefc-14e41c6d36e8",
   "metadata": {},
   "outputs": [],
   "source": [
    "ham=get_mti_hamiltonian(ph_symmetry=True, disorder=False)\n",
    "fsyst=syst_create_smti_tunnelling(11000, 400, False)"
   ]
  },
  {
   "cell_type": "code",
   "execution_count": 3,
   "id": "1a8ff3a5-b008-4e06-adef-c89494a67380",
   "metadata": {},
   "outputs": [],
   "source": [
    "params = dict(hbar=1,\n",
    "                    mu=0.014823834205238105,\n",
    "                    V=0,\n",
    "                    mu_m=1.6,\n",
    "                    vF=3,#for Bi2Se3-based 3DTI, 10^15 canceled out with hbar\n",
    "                    m0=-0.005,\n",
    "                    m1=15,\n",
    "                    Msysz=0.015,\n",
    "                    Msysx=.0,\n",
    "                    Msysy=.0,\n",
    "                    Mz=0.1,\n",
    "                    Mx=.0,\n",
    "                    My=.0,\n",
    "                    a=10,\n",
    "                    phi_0=1.0,\n",
    "                    exp=np.exp,\n",
    "                    Smag_imp=0.04,\n",
    "                    # Smag_mimp=.0,\n",
    "                    # Stheta_mimp=np.pi/2,\n",
    "                    # Sphi_mimp=.0,\n",
    "                    disorder_imp=np.zeros([1, 1]),\n",
    "                    # correlation_length=35,\n",
    "                    re=lambda x: x.real,\n",
    "                    im=lambda x: x.imag,\n",
    "                    Delta=lambda x: 0.005 if x >= 1000 else 0,\n",
    "                    S_imp=get_S_imp(\"\")\n",
    "                    )"
   ]
  },
  {
   "cell_type": "code",
   "execution_count": 4,
   "id": "b5522794-99f0-4532-93fd-706b78341ae1",
   "metadata": {},
   "outputs": [],
   "source": [
    "# To include disorder \n",
    "params.update(disorder_imp=get_disorder(2, 0.02, 35, 11000, 400, 100))"
   ]
  },
  {
   "cell_type": "code",
   "execution_count": 5,
   "id": "bef5a6d1-2f6e-4288-9c8b-dd0e820e5bf6",
   "metadata": {},
   "outputs": [
    {
     "name": "stderr",
     "output_type": "stream",
     "text": [
      "/Users/declanburke/opt/anaconda3/lib/python3.7/site-packages/kwant/solvers/common.py:820: VisibleDeprecationWarning: Creating an ndarray from ragged nested sequences (which is a list-or-tuple of lists-or-tuples-or ndarrays with different lengths or shapes) is deprecated. If you meant to do this, you must specify 'dtype=object' when creating the ndarray.\n",
      "  np.array(self.block_offsets)[list(self.in_leads)]\n",
      "/Users/declanburke/opt/anaconda3/lib/python3.7/site-packages/kwant/solvers/common.py:822: VisibleDeprecationWarning: Creating an ndarray from ragged nested sequences (which is a list-or-tuple of lists-or-tuples-or ndarrays with different lengths or shapes) is deprecated. If you meant to do this, you must specify 'dtype=object' when creating the ndarray.\n",
      "  np.array(self.block_offsets)[list(self.out_leads)]\n"
     ]
    },
    {
     "data": {
      "text/plain": [
       "1.982237639486681"
      ]
     },
     "execution_count": 5,
     "metadata": {},
     "output_type": "execute_result"
    }
   ],
   "source": [
    "tun_con(fsyst, 0, params)"
   ]
  },
  {
   "cell_type": "code",
   "execution_count": null,
   "id": "09e283cd-32b5-4973-8e1f-9c669c601cc9",
   "metadata": {},
   "outputs": [],
   "source": []
  },
  {
   "cell_type": "code",
   "execution_count": null,
   "id": "4e0d105c-9d8e-4f42-830b-f2a75aa576df",
   "metadata": {},
   "outputs": [],
   "source": []
  }
 ],
 "metadata": {
  "kernelspec": {
   "display_name": "Python 3",
   "language": "python",
   "name": "python3"
  },
  "language_info": {
   "codemirror_mode": {
    "name": "ipython",
    "version": 3
   },
   "file_extension": ".py",
   "mimetype": "text/x-python",
   "name": "python",
   "nbconvert_exporter": "python",
   "pygments_lexer": "ipython3",
   "version": "3.7.6"
  }
 },
 "nbformat": 4,
 "nbformat_minor": 5
}
