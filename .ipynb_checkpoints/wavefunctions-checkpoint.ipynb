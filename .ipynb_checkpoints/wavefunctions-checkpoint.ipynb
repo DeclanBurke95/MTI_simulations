{
 "cells": [
  {
   "cell_type": "code",
   "execution_count": 1,
   "id": "ff8c4dd2-c734-4241-b877-34a7975fe4d5",
   "metadata": {},
   "outputs": [
    {
     "name": "stderr",
     "output_type": "stream",
     "text": [
      "/Users/declanburke/opt/anaconda3/lib/python3.7/site-packages/kwant/solvers/default.py:18: RuntimeWarning: MUMPS is not available, SciPy built-in solver will be used as a fallback. Performance can be very poor in this case.\n",
      "  \"Performance can be very poor in this case.\", RuntimeWarning)\n"
     ]
    }
   ],
   "source": [
    "from systems import syst_create_smti\n",
    "from systems import get_S_imp\n",
    "from funcs import get_params\n",
    "import kwant\n",
    "from funcs import tun_con\n",
    "import numpy as np\n",
    "from funcs import calc_energies\n",
    "import pandas as pd\n",
    "import matplotlib.pyplot as plt"
   ]
  },
  {
   "cell_type": "code",
   "execution_count": 2,
   "id": "c8d8b913-6e43-47bf-9e22-c5f0dae765cc",
   "metadata": {},
   "outputs": [],
   "source": [
    "params = dict(hbar=1,\n",
    "                    mu=0.014823834205238105,\n",
    "                    V=0,\n",
    "                    mu_m=1.6,\n",
    "                    vF=3,#for Bi2Se3-based 3DTI, 10^15 canceled out with hbar\n",
    "                    m0=-0.005,\n",
    "                    m1=15,\n",
    "                    Msysz=0.015,\n",
    "                    Msysx=.0,\n",
    "                    Msysy=.0,\n",
    "                    Mz=0.1,\n",
    "                    Mx=.0,\n",
    "                    My=.0,\n",
    "                    a=10,\n",
    "                    phi_0=1.0,\n",
    "                    exp=np.exp,\n",
    "                    Smag_imp=0.04,\n",
    "                    # Smag_mimp=.0,\n",
    "                    # Stheta_mimp=np.pi/2,\n",
    "                    # Sphi_mimp=.0,\n",
    "                    disorder_imp=np.zeros([1, 1]),\n",
    "                    # correlation_length=35,\n",
    "                    re=lambda x: x.real,\n",
    "                    im=lambda x: x.imag,\n",
    "                    Delta=lambda x: 0.005 if x >= 1000 else 0,\n",
    "                    S_imp=get_S_imp(\"\")\n",
    "                    )"
   ]
  },
  {
   "cell_type": "code",
   "execution_count": 17,
   "id": "3ac6548a-49fb-4e8f-ae3e-9e71b1324c3e",
   "metadata": {},
   "outputs": [],
   "source": [
    "fsyst=syst_create_smti(1100, 400, False)"
   ]
  },
  {
   "cell_type": "code",
   "execution_count": 5,
   "id": "746a4dca-599d-4c9e-ae2b-249d6cca21d5",
   "metadata": {},
   "outputs": [],
   "source": [
    "energies, states, densities=calc_energies(syst_create_smti(1100,400, False), params, 8, 4)"
   ]
  },
  {
   "cell_type": "code",
   "execution_count": 12,
   "id": "77ab2907-7c91-4eba-8594-2817a6c3436f",
   "metadata": {},
   "outputs": [
    {
     "data": {
      "text/plain": [
       "(4,)"
      ]
     },
     "execution_count": 12,
     "metadata": {},
     "output_type": "execute_result"
    }
   ],
   "source": [
    "densities[0].shape"
   ]
  },
  {
   "cell_type": "code",
   "execution_count": 11,
   "id": "0f7e1d47-126b-4d41-b679-fa0a79948173",
   "metadata": {},
   "outputs": [
    {
     "ename": "SyntaxError",
     "evalue": "invalid syntax (<ipython-input-11-6629988dc368>, line 4)",
     "output_type": "error",
     "traceback": [
      "\u001b[0;36m  File \u001b[0;32m\"<ipython-input-11-6629988dc368>\"\u001b[0;36m, line \u001b[0;32m4\u001b[0m\n\u001b[0;31m    plt.pcolormesh(X, Y densities[0].reshape(11,41))\u001b[0m\n\u001b[0m                                ^\u001b[0m\n\u001b[0;31mSyntaxError\u001b[0m\u001b[0;31m:\u001b[0m invalid syntax\n"
     ]
    }
   ],
   "source": [
    "x=np.linspace(0,110,111)\n",
    "y=np.linspace(0,40,41)\n",
    "X,Y=np.meshgrid(x,y)\n",
    "plt.pcolormesh(X, Y densities[0].reshape(11,41))"
   ]
  },
  {
   "cell_type": "code",
   "execution_count": null,
   "id": "e09bfbba-3e9d-4ba8-9792-f172960f7671",
   "metadata": {},
   "outputs": [],
   "source": []
  },
  {
   "cell_type": "code",
   "execution_count": null,
   "id": "1161eb6c-ffd4-42d8-bb3e-6af1f624fe33",
   "metadata": {},
   "outputs": [],
   "source": []
  },
  {
   "cell_type": "code",
   "execution_count": null,
   "id": "9a007950-ec03-48e6-8ef9-b45ab0fe9abc",
   "metadata": {},
   "outputs": [],
   "source": []
  },
  {
   "cell_type": "code",
   "execution_count": null,
   "id": "74ae3c6a-b7fc-4765-b5b4-33e547db0096",
   "metadata": {},
   "outputs": [],
   "source": [
    "def plot_2d_disorder(L, W, n_dis, corrL, L_normal):\n",
    "    fsyst=syst_create_mti(L, W)\n",
    "    disorder=get_disorder2(n_dis, S_mag, corrL, L, W, L_normal)\n",
    "    \n",
    "    x=np.linspace(0,int((L/10)),int((L/10)+1))\n",
    "    y=np.linspace(0,int((W/10)),int((W/10)+1))\n",
    "    X,Y=np.meshgrid(x,y)\n",
    "    plt.pcolormesh(X, Y, disorder)"
   ]
  },
  {
   "cell_type": "code",
   "execution_count": null,
   "id": "b47b19dc-254f-4da0-93e8-f4e9daf16819",
   "metadata": {},
   "outputs": [],
   "source": []
  },
  {
   "cell_type": "code",
   "execution_count": null,
   "id": "4f1dae85-9355-4e25-92ea-b785e7131ffa",
   "metadata": {},
   "outputs": [],
   "source": []
  },
  {
   "cell_type": "code",
   "execution_count": 15,
   "id": "71c25625-6297-4e9c-b58c-57f91654ea0b",
   "metadata": {},
   "outputs": [
    {
     "data": {
      "text/plain": [
       "(4551, 4)"
      ]
     },
     "execution_count": 15,
     "metadata": {},
     "output_type": "execute_result"
    }
   ],
   "source": [
    "densities.shape"
   ]
  },
  {
   "cell_type": "code",
   "execution_count": 18,
   "id": "f13d111e-3c74-4d75-8b6a-e7f137ab9fb6",
   "metadata": {},
   "outputs": [
    {
     "data": {
      "text/plain": [
       "[<matplotlib.lines.Line2D at 0x7fe2cbf5bd90>]"
      ]
     },
     "execution_count": 18,
     "metadata": {},
     "output_type": "execute_result"
    },
    {
     "data": {
      "image/png": "[encoded data removed]",
      "text/plain": [
       "<Figure size 432x288 with 1 Axes>"
      ]
     },
     "metadata": {
      "needs_background": "light"
     },
     "output_type": "display_data"
    }
   ],
   "source": [
    "# 1D plotter, averaged across width of sample\n",
    "\n",
    "L=1100\n",
    "W=400\n",
    "sitesx_list=np.array([site.pos[0] for site in fsyst.sites])\n",
    "sitesy_list=np.array([site.pos[1] for site in fsyst.sites])\n",
    "\n",
    "# WF=densities[0]+densities[1]\n",
    "# mesh=np.vstack((sitesx_list, sitesy_list ,WF))\n",
    "# mesh.shape\n",
    "\n",
    "wfs1=[]\n",
    "wfs2=[]\n",
    "for x in range(len(sitesx_list)):\n",
    "    wfs1.append(densities[x][0])\n",
    "    wfs2.append(densities[x][1])\n",
    "    \n",
    "WFS1=np.array(wfs1) \n",
    "WFS2=np.array(wfs2) \n",
    "# x1=WFS1.reshape(1,45141)\n",
    "# x2=WFS2.reshape(1,45141)\n",
    "WF=WFS1+WFS2\n",
    "WFplot=WF.reshape(int((L/10)+1), int((W/10)+1))\n",
    "\n",
    "mesh=np.vstack((sitesx_list, sitesy_list ,WF)).T\n",
    "mesh.shape\n",
    "\n",
    "values=pd.DataFrame(data=mesh, columns=['sitesx_list', 'sitesy_list', 'WF']).groupby(['sitesx_list']).mean()\n",
    "\n",
    "plt.plot(np.linspace(0,110,111), values['WF'])"
   ]
  },
  {
   "cell_type": "code",
   "execution_count": 34,
   "id": "513652b5-270b-4b12-a40f-2ba60befa497",
   "metadata": {},
   "outputs": [
    {
     "data": {
      "text/plain": [
       "<matplotlib.collections.QuadMesh at 0x7fd5e33c5750>"
      ]
     },
     "execution_count": 34,
     "metadata": {},
     "output_type": "execute_result"
    },
    {
     "data": {
      "image/png": "[encoded data removed]",
      "text/plain": [
       "<Figure size 432x288 with 1 Axes>"
      ]
     },
     "metadata": {
      "needs_background": "light"
     },
     "output_type": "display_data"
    }
   ],
   "source": [
    "# 2D Plotter \n",
    "\n",
    "y=np.linspace(0,int(L/10), int((L/10)+1))\n",
    "x=np.linspace(0,int(W/10), int((W/10)+1))\n",
    "X,Y=np.meshgrid(x,y)\n",
    "plt.pcolormesh(Y, X, WFplot)"
   ]
  },
  {
   "cell_type": "code",
   "execution_count": null,
   "id": "34e2f39d-31b8-4ef8-8fac-6435330bb5be",
   "metadata": {},
   "outputs": [],
   "source": []
  }
 ],
 "metadata": {
  "kernelspec": {
   "display_name": "Python 3",
   "language": "python",
   "name": "python3"
  },
  "language_info": {
   "codemirror_mode": {
    "name": "ipython",
    "version": 3
   },
   "file_extension": ".py",
   "mimetype": "text/x-python",
   "name": "python",
   "nbconvert_exporter": "python",
   "pygments_lexer": "ipython3",
   "version": "3.7.6"
  }
 },
 "nbformat": 4,
 "nbformat_minor": 5
}
