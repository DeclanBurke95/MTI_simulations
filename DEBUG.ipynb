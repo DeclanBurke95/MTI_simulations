{
 "cells": [
  {
   "cell_type": "code",
   "execution_count": 4,
   "metadata": {},
   "outputs": [],
   "source": [
    "import kwant\n",
    "import numpy as np\n",
    "import matplotlib.pyplot as plt\n",
    "import pandas as pd \n",
    "import scipy.signal\n",
    "from scipy.optimize import curve_fit\n",
    "import scipy.signal\n",
    "from scipy.stats import multivariate_normal\n",
    "import argparse\n",
    "import kwant.continuum\n",
    "\n",
    "\n",
    "ham = (\n",
    "    \"hbar * vF * k_y * kron(sigma_x, sigma_z) - \"\n",
    "    \"hbar * vF * k_x * kron(sigma_y, sigma_z) + \"\n",
    "    \"{m} * kron(sigma_0, sigma_x) + \" \n",
    "    \"Msysz * kron(sigma_z, sigma_0)\")\n",
    "\n",
    "\n",
    "m = \"(m0 - m1 * (k_x**2 + k_y**2))\"\n",
    "# hamiltonian_MTI=get_hamiltonian(material='mti', ph_symmetry=True)\n",
    "hamiltonian_MTI = ham.format(m=m, Delta=\"Delta(x)\")\n",
    "ham_MTI_sys_discretized = kwant.continuum.discretize(hamiltonian_MTI, grid=a)\n",
    "ham_MTI_leads_discretized = kwant.continuum.discretize(hamiltonian_MTI, grid=a)"
   ]
  },
  {
   "cell_type": "code",
   "execution_count": 3,
   "metadata": {},
   "outputs": [
    {
     "ename": "NameError",
     "evalue": "name '_shape' is not defined",
     "output_type": "error",
     "traceback": [
      "\u001b[0;31m---------------------------------------------------------------------------\u001b[0m",
      "\u001b[0;31mNameError\u001b[0m                                 Traceback (most recent call last)",
      "Input \u001b[0;32mIn [3]\u001b[0m, in \u001b[0;36m<cell line: 46>\u001b[0;34m()\u001b[0m\n\u001b[1;32m     43\u001b[0m ham_MTI_sys_discretized \u001b[38;5;241m=\u001b[39m kwant\u001b[38;5;241m.\u001b[39mcontinuum\u001b[38;5;241m.\u001b[39mdiscretize(hamiltonian_MTI, grid\u001b[38;5;241m=\u001b[39ma)\n\u001b[1;32m     44\u001b[0m ham_MTI_leads_discretized \u001b[38;5;241m=\u001b[39m kwant\u001b[38;5;241m.\u001b[39mcontinuum\u001b[38;5;241m.\u001b[39mdiscretize(hamiltonian_MTI, grid\u001b[38;5;241m=\u001b[39ma)\n\u001b[0;32m---> 46\u001b[0m syst\u001b[38;5;241m.\u001b[39mfill(ham_MTI_sys_discretized, \u001b[38;5;241m*\u001b[39m\u001b[43m_shape\u001b[49m(L,W))\n\u001b[1;32m     47\u001b[0m lead_left \u001b[38;5;241m=\u001b[39m kwant\u001b[38;5;241m.\u001b[39mBuilder(kwant\u001b[38;5;241m.\u001b[39mTranslationalSymmetry((\u001b[38;5;241m-\u001b[39ma, \u001b[38;5;241m0\u001b[39m)))\n\u001b[1;32m     48\u001b[0m \u001b[38;5;66;03m# lead_left = kwant.Builder(kwant.TranslationalSymmetry((-a, 0)))\u001b[39;00m\n",
      "\u001b[0;31mNameError\u001b[0m: name '_shape' is not defined"
     ]
    }
   ],
   "source": [
    "def get_shape(L, W, type_sys='normal', v=np.array([0,0])):\n",
    "    L_start, W_start = 0, 0\n",
    "    L_stop, W_stop = L, W\n",
    "    \n",
    "\n",
    "    def _shape(site):\n",
    "        (x, y) = site.pos - v\n",
    "        return (0 <= x <= L and 0 <= y <= W)\n",
    "\n",
    "    return _shape, v + np.array([L_stop, W_stop])\n",
    "    \n",
    "# def create_syst(L, W, type_sys='normal', v=np.array([0,0])):\n",
    "    \n",
    "a=10\n",
    "W=100\n",
    "L=500\n",
    "syst = kwant.Builder()\n",
    "L_start, W_start = 0, 0\n",
    "L_stop, W_stop = L, W\n",
    "\n",
    "# if type_sys=='normal':\n",
    "def shape(L, W, v=np.array([0,0])):\n",
    "    L_start, W_start = 0, 0\n",
    "    L_stop, W_stop = L, W\n",
    "    \n",
    "    def _shape(site):\n",
    "        (x, y) = site.pos - v\n",
    "        return (0 <= x <= L and 0 <= y <= W)\n",
    "    \n",
    "    return _shape, v + np.array([L_stop, W_stop])\n",
    "\n",
    "#     else:\n",
    "#         def shape_pointcontact(W):\n",
    "#             def _shape(site):\n",
    "#                 (x, y) = site.pos\n",
    "#                 return y==W//2\n",
    "\n",
    "#             return _shape, (0,W//2)\n",
    "\n",
    "m = \"(m0 - m1 * (k_x**2 + k_y**2))\"\n",
    "# hamiltonian_MTI=get_hamiltonian(material='mti', ph_symmetry=True)\n",
    "hamiltonian_MTI = ham.format(m=m, Delta=\"Delta(x)\")\n",
    "ham_MTI_sys_discretized = kwant.continuum.discretize(hamiltonian_MTI, grid=a)\n",
    "ham_MTI_leads_discretized = kwant.continuum.discretize(hamiltonian_MTI, grid=a)\n",
    "\n",
    "syst.fill(ham_MTI_sys_discretized, *_shape(L,W))\n",
    "lead_left = kwant.Builder(kwant.TranslationalSymmetry((-a, 0)))\n",
    "# lead_left = kwant.Builder(kwant.TranslationalSymmetry((-a, 0)))\n",
    "lead_right = kwant.Builder(kwant.TranslationalSymmetry((a, 0)))  \n",
    "lead_left.fill(ham_MTI_leads_discretized, *_shape(L, W))\n",
    "lead_right.fill(ham_MTI_leads_discretized, *_shape(L, W))\n",
    "\n",
    "syst.attach_lead(lead_left)\n",
    "syst.attach_lead(lead_right)\n",
    "fyst=syst.finalized()\n",
    "    \n",
    "    "
   ]
  },
  {
   "cell_type": "code",
   "execution_count": null,
   "metadata": {},
   "outputs": [],
   "source": [
    "*_shape(L,W)"
   ]
  },
  {
   "cell_type": "code",
   "execution_count": null,
   "metadata": {},
   "outputs": [],
   "source": [
    "(10, 10) = site.pos - v    "
   ]
  },
  {
   "cell_type": "code",
   "execution_count": null,
   "metadata": {},
   "outputs": [],
   "source": [
    "x=[1,2,3,4,5]"
   ]
  },
  {
   "cell_type": "code",
   "execution_count": null,
   "metadata": {},
   "outputs": [],
   "source": [
    "*(x)"
   ]
  },
  {
   "cell_type": "code",
   "execution_count": 10,
   "metadata": {},
   "outputs": [],
   "source": [
    "W=1000\n",
    "L=11000\n",
    "\n",
    "a = 10\n",
    "syst = kwant.Builder()\n",
    "\n",
    "hamiltonian_MTI = (\n",
    "    \"hbar * vF * k_y * kron(sigma_x, sigma_z) - \"\n",
    "    \"hbar * vF * k_x * kron(sigma_y, sigma_z) + \"\n",
    "    \"{m} * kron(sigma_0, sigma_x) + \" # top-bottom surface coupling\n",
    "    \"Msysz * kron(sigma_z, sigma_0)\"\n",
    ")\n",
    "                       \n",
    "\n",
    "term_mimp = (\n",
    "    \" + S_mimp_x(site, Smag_mimp, Stheta_mimp, Sphi_mimp) * kron(sigma_x, sigma_0)\"\n",
    "    \" + S_mimp_y(site, Smag_mimp, Stheta_mimp, Sphi_mimp) * kron(sigma_y, sigma_0)\"\n",
    "    \" + S_mimp_z(site, Smag_mimp, Stheta_mimp, Sphi_mimp) * kron(sigma_z, sigma_0)\"   \n",
    ")\n",
    "\n",
    "\n",
    "m = \"(m0 - m1 * (k_x**2 + k_y**2))\"\n",
    "\n",
    "hamiltonian_MTI = hamiltonian_MTI.format(m=m)\n",
    "\n",
    "ham_MTI_sys_discretized = kwant.continuum.discretize(hamiltonian_MTI, grid=a)\n",
    "ham_MTI_leads_discretized = kwant.continuum.discretize(hamiltonian_MTI, grid=a)\n",
    "\n",
    "\n",
    "def shape(L, W, v=np.array([0,0])):\n",
    "    L_start, W_start = 0, 0\n",
    "    L_stop, W_stop = L, W\n",
    "    \n",
    "    def _shape(site):\n",
    "        (x, y) = site.pos - v\n",
    "        return (0 <= x <= L and 0 <= y <= W)\n",
    "    \n",
    "    return _shape, v + np.array([L_stop, W_stop])\n",
    "    \n",
    "def shape_pointcontact(W):\n",
    "    def _shape(site):\n",
    "        (x, y) = site.pos\n",
    "        return y==W//2\n",
    "    \n",
    "    return _shape, (0,W//2)"
   ]
  },
  {
   "cell_type": "code",
   "execution_count": 11,
   "metadata": {},
   "outputs": [
    {
     "name": "stdout",
     "output_type": "stream",
     "text": [
      "<kwant.builder.Builder object at 0x15160c9b2be0>\n"
     ]
    }
   ],
   "source": [
    "syst.fill(ham_MTI_sys_discretized, *shape(L,W))\n",
    "\n",
    "lead_left = kwant.Builder(kwant.TranslationalSymmetry((-a, 0)))\n",
    "# lead_left = kwant.Builder(kwant.TranslationalSymmetry((-a, 0)))\n",
    "lead_right = kwant.Builder(kwant.TranslationalSymmetry((a, 0)))  \n",
    "lead_left.fill(ham_MTI_leads_discretized, *shape(L, W))\n",
    "lead_right.fill(ham_MTI_leads_discretized, *shape(L, W))\n",
    "\n",
    "print(syst)\n",
    "syst.attach_lead(lead_left)\n",
    "syst.attach_lead(lead_right)\n",
    "\n",
    "fsyst=syst.finalized()\n",
    "\n",
    "# Bfields=np.linspace\n",
    "# for B in Bfields:\n",
    "\n",
    "params = dict(hbar=1,\n",
    "                    V=0,\n",
    "                    mu_m=1.6,\n",
    "                    vF=3,#for Bi2Se3-based 3DTI, 10^15 canceled out with hbar\n",
    "                    m0=-0.005,\n",
    "                    m1=15,\n",
    "                    Msysz=0.015,\n",
    "                    Msysx=.0,\n",
    "                    Msysy=.0,\n",
    "                    Mz=0.1,\n",
    "                    Mx=.0,\n",
    "                    My=.0,\n",
    "                    a=a,\n",
    "                    phi_0=1.0,\n",
    "                    exp=np.exp,\n",
    "                    re=lambda x: x.real,\n",
    "                    im=lambda x: x.imag,\n",
    "                    Delta=lambda x: 0.005 if x >= 1000 else 0\n",
    "                    )\n",
    "\n",
    "\n",
    "# smatrix = kwant.smatrix(fsyst, energy=3.7923819182006433, params = params)\n",
    "# E_data.append(smatrix.transmission((1, 0), (0,0)))\n",
    "# np.savetxt(f\"NEW_QAHvsW_L1100nm_cor50{N}.csv\", E_data, delimiter=',')"
   ]
  },
  {
   "cell_type": "code",
   "execution_count": 14,
   "metadata": {},
   "outputs": [],
   "source": [
    "smatrix = kwant.smatrix(fsyst, energy=0.05, params = params)"
   ]
  },
  {
   "cell_type": "code",
   "execution_count": 16,
   "metadata": {},
   "outputs": [
    {
     "data": {
      "text/plain": [
       "10.000000000005459"
      ]
     },
     "execution_count": 16,
     "metadata": {},
     "output_type": "execute_result"
    }
   ],
   "source": [
    "smatrix.transmission((1, 0), (0,0))"
   ]
  },
  {
   "cell_type": "code",
   "execution_count": 17,
   "metadata": {},
   "outputs": [
    {
     "data": {
      "text/plain": [
       "<kwant.builder.FiniteSystem at 0x1515ff91d0a0>"
      ]
     },
     "execution_count": 17,
     "metadata": {},
     "output_type": "execute_result"
    }
   ],
   "source": [
    "fsyst"
   ]
  },
  {
   "cell_type": "code",
   "execution_count": 18,
   "metadata": {},
   "outputs": [],
   "source": [
    "def syst_create(L, W):\n",
    "    syst.fill(ham_MTI_sys_discretized, *shape(L,W))\n",
    "\n",
    "    lead_left = kwant.Builder(kwant.TranslationalSymmetry((-a, 0)))\n",
    "    # lead_left = kwant.Builder(kwant.TranslationalSymmetry((-a, 0)))\n",
    "    lead_right = kwant.Builder(kwant.TranslationalSymmetry((a, 0)))  \n",
    "    lead_left.fill(ham_MTI_leads_discretized, *shape(L, W))\n",
    "    lead_right.fill(ham_MTI_leads_discretized, *shape(L, W))\n",
    "\n",
    "    print(syst)\n",
    "    syst.attach_lead(lead_left)\n",
    "    syst.attach_lead(lead_right)\n",
    "    fsyst=syst.finalized()\n",
    "    \n",
    "    return fsyst"
   ]
  },
  {
   "cell_type": "code",
   "execution_count": 26,
   "metadata": {},
   "outputs": [
    {
     "name": "stderr",
     "output_type": "stream",
     "text": [
      "/var/tmp/pbs.8892112.pbs/ipykernel_3125591/1698737364.py:2: RuntimeWarning: fill(): The target builder already contains all starting sites.\n",
      "  syst.fill(ham_MTI_sys_discretized, *shape(L,W))\n"
     ]
    },
    {
     "name": "stdout",
     "output_type": "stream",
     "text": [
      "<kwant.builder.Builder object at 0x15160c9b2be0>\n"
     ]
    },
    {
     "data": {
      "text/plain": [
       "<kwant.builder.FiniteSystem at 0x151604763490>"
      ]
     },
     "execution_count": 26,
     "metadata": {},
     "output_type": "execute_result"
    }
   ],
   "source": [
    "fsyst=syst_create(1100,400)\n",
    "fsyst"
   ]
  },
  {
   "cell_type": "code",
   "execution_count": 24,
   "metadata": {},
   "outputs": [
    {
     "ename": "IndentationError",
     "evalue": "unexpected indent (1338030485.py, line 9)",
     "output_type": "error",
     "traceback": [
      "\u001b[0;36m  Input \u001b[0;32mIn [24]\u001b[0;36m\u001b[0m\n\u001b[0;31m    def _shape(site):\u001b[0m\n\u001b[0m    ^\u001b[0m\n\u001b[0;31mIndentationError\u001b[0m\u001b[0;31m:\u001b[0m unexpected indent\n"
     ]
    }
   ],
   "source": [
    "def create_syst(L, W, type_sys='normal', v=np.array([0,0])):\n",
    "    \n",
    "    a=10\n",
    "    syst = kwant.Builder()\n",
    "    L_start, W_start = 0, 0\n",
    "    L_stop, W_stop = L, W\n",
    "\n",
    "\n",
    "        def _shape(site):\n",
    "            (x, y) = site.pos - v\n",
    "            return (0 <= x <= L and 0 <= y <= W)\n",
    "\n",
    "        return _shape, v + np.array([L_stop, W_stop])\n",
    "    \n",
    "#     else:\n",
    "#         def shape_pointcontact(W):\n",
    "#             def _shape(site):\n",
    "#                 (x, y) = site.pos\n",
    "#                 return y==W//2\n",
    "\n",
    "#             return _shape, (0,W//2)\n",
    "        \n",
    "        m = \"(m0 - m1 * (k_x**2 + k_y**2))\"\n",
    "        hamiltonian_MTI=get_hamiltonian(material='mti', ph_symmetry=True)\n",
    "        hamiltonian_MTI = hamiltonian_MTI.format(m=m, Delta=\"Delta(x)\")\n",
    "        ham_MTI_sys_discretized = kwant.continuum.discretize(hamiltonian_MTI, grid=a)\n",
    "        ham_MTI_leads_discretized = kwant.continuum.discretize(hamiltonian_MTI, grid=a)\n",
    "\n",
    "        syst.fill(ham_MTI_sys_discretized, *_shape(L,W))\n",
    "        lead_left = kwant.Builder(kwant.TranslationalSymmetry((-a, 0)))\n",
    "        # lead_left = kwant.Builder(kwant.TranslationalSymmetry((-a, 0)))\n",
    "        lead_right = kwant.Builder(kwant.TranslationalSymmetry((a, 0)))  \n",
    "        lead_left.fill(ham_MTI_leads_discretized, *_shape(L, W))\n",
    "        lead_right.fill(ham_MTI_leads_discretized, *_shape(L, W))\n",
    "\n",
    "        syst.attach_lead(lead_left)\n",
    "        syst.attach_lead(lead_right)\n",
    "        fyst=syst.finalized()\n",
    "    \n",
    "    \n",
    "        return fsyst"
   ]
  },
  {
   "cell_type": "code",
   "execution_count": 22,
   "metadata": {},
   "outputs": [
    {
     "data": {
      "text/plain": [
       "(<function __main__.create_syst.<locals>._shape(site)>, array([11000,  1000]))"
      ]
     },
     "execution_count": 22,
     "metadata": {},
     "output_type": "execute_result"
    }
   ],
   "source": [
    "create_syst(L, W, type_sys='normal', v=np.array([0,0]))"
   ]
  },
  {
   "cell_type": "code",
   "execution_count": 5,
   "metadata": {},
   "outputs": [],
   "source": [
    "a=10\n",
    "W=100\n",
    "L=500\n",
    "syst = kwant.Builder()\n",
    "L_start, W_start = 0, 0\n",
    "L_stop, W_stop = L, W\n",
    "\n",
    "\n",
    "def shape(L, W, v=np.array([0,0])):\n",
    "    L_start, W_start = 0, 0\n",
    "    L_stop, W_stop = L, W\n",
    "    \n",
    "    def _shape(site):\n",
    "        (x, y) = site.pos - v\n",
    "        return (0 <= x <= L and 0 <= y <= W)\n",
    "    \n",
    "    return _shape, v + np.array([L_stop, W_stop])\n",
    "\n",
    "def syst_create(L, W):\n",
    "    a=10\n",
    "    W=W\n",
    "    L=L\n",
    "    syst = kwant.Builder()\n",
    "    L_start, W_start = 0, 0\n",
    "    L_stop, W_stop = L, W\n",
    "    syst.fill(ham_MTI_sys_discretized, *shape(L,W))\n",
    "\n",
    "    lead_left = kwant.Builder(kwant.TranslationalSymmetry((-a, 0)))\n",
    "    # lead_left = kwant.Builder(kwant.TranslationalSymmetry((-a, 0)))\n",
    "    lead_right = kwant.Builder(kwant.TranslationalSymmetry((a, 0)))  \n",
    "    lead_left.fill(ham_MTI_leads_discretized, *shape(L, W))\n",
    "    lead_right.fill(ham_MTI_leads_discretized, *shape(L, W))\n",
    "\n",
    "    print(syst)\n",
    "    syst.attach_lead(lead_left)\n",
    "    syst.attach_lead(lead_right)\n",
    "    fsyst=syst.finalized()\n",
    "    \n",
    "    return fsyst"
   ]
  },
  {
   "cell_type": "code",
   "execution_count": 7,
   "metadata": {},
   "outputs": [
    {
     "name": "stdout",
     "output_type": "stream",
     "text": [
      "<kwant.builder.Builder object at 0x153c29e6a820>\n"
     ]
    },
    {
     "name": "stderr",
     "output_type": "stream",
     "text": [
      "/var/tmp/pbs.8892112.pbs/ipykernel_3135107/743879433.py:20: RuntimeWarning: fill(): The target builder already contains all starting sites.\n",
      "  syst.fill(ham_MTI_sys_discretized, *shape(L,W))\n"
     ]
    }
   ],
   "source": [
    "fsyst=syst_create(1100, 400)"
   ]
  },
  {
   "cell_type": "code",
   "execution_count": 8,
   "metadata": {},
   "outputs": [
    {
     "data": {
      "text/plain": [
       "<kwant.builder.FiniteSystem at 0x153c32717b20>"
      ]
     },
     "execution_count": 8,
     "metadata": {},
     "output_type": "execute_result"
    }
   ],
   "source": [
    "fsyst"
   ]
  },
  {
   "cell_type": "code",
   "execution_count": 10,
   "metadata": {},
   "outputs": [
    {
     "data": {
      "text/plain": [
       "0.7074644594106853"
      ]
     },
     "execution_count": 10,
     "metadata": {},
     "output_type": "execute_result"
    }
   ],
   "source": [
    "params = dict(hbar=1,\n",
    "                    V=0,\n",
    "                    mu_m=1.6,\n",
    "                    vF=3,#for Bi2Se3-based 3DTI, 10^15 canceled out with hbar\n",
    "                    m0=-0.005,\n",
    "                    m1=15,\n",
    "                    Msysz=0.015,\n",
    "                    Msysx=.0,\n",
    "                    Msysy=.0,\n",
    "                    Mz=0.1,\n",
    "                    Mx=.0,\n",
    "                    My=.0,\n",
    "                    a=a,\n",
    "                    phi_0=1.0,\n",
    "                    exp=np.exp,\n",
    "                    re=lambda x: x.real,\n",
    "                    im=lambda x: x.imag,\n",
    "                    Delta=lambda x: 0.005 if x >= 1000 else 0\n",
    "                    )\n",
    "\n",
    "\n",
    "smatrix = kwant.smatrix(fsyst, energy=0.05, params = params)\n",
    "smatrix.transmission((1, 0), (0,0))"
   ]
  },
  {
   "cell_type": "code",
   "execution_count": null,
   "metadata": {},
   "outputs": [],
   "source": []
  }
 ],
 "metadata": {
  "kernelspec": {
   "display_name": "Python 3",
   "language": "python",
   "name": "python3"
  },
  "language_info": {
   "codemirror_mode": {
    "name": "ipython",
    "version": 3
   },
   "file_extension": ".py",
   "mimetype": "text/x-python",
   "name": "python",
   "nbconvert_exporter": "python",
   "pygments_lexer": "ipython3",
   "version": "3.7.6"
  }
 },
 "nbformat": 4,
 "nbformat_minor": 4
}
