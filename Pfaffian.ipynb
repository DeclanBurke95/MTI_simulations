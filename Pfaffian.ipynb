{
 "cells": [
  {
   "cell_type": "code",
   "execution_count": 1,
   "id": "61f7902f-0e78-4752-859f-5239771389e2",
   "metadata": {},
   "outputs": [
    {
     "name": "stderr",
     "output_type": "stream",
     "text": [
      "/Users/declanburke/opt/anaconda3/lib/python3.7/site-packages/kwant/solvers/default.py:18: RuntimeWarning: MUMPS is not available, SciPy built-in solver will be used as a fallback. Performance can be very poor in this case.\n",
      "  \"Performance can be very poor in this case.\", RuntimeWarning)\n"
     ]
    }
   ],
   "source": [
    "from pfapack import pfaffian as cpf\n",
    "import adaptive\n",
    "from systems import get_mti_hamiltonian\n",
    "import numpy as np\n",
    "from operator import itemgetter\n",
    "from systems import make_lead\n",
    "from funcs import get_default_params2\n",
    "import pandas as pd\n",
    "from funcs import majorana_num\n",
    "import funcs\n",
    "import adaptive\n",
    "import kwant \n",
    "import kwant.continuum\n",
    "import warnings\n",
    "from systems import make_lead"
   ]
  },
  {
   "cell_type": "code",
   "execution_count": 2,
   "id": "81a00b81-ce3c-428a-8eae-41397338c693",
   "metadata": {
    "tags": []
   },
   "outputs": [],
   "source": [
    "params=get_default_params2(finite=False)\n",
    "\n",
    "pfaf_combos = {\n",
    "    'Delta': [0.005],\n",
    "    'W': [400]\n",
    "}\n",
    "\n",
    "learner_type = adaptive.make_datasaver(adaptive.Learner2D, arg_picker=itemgetter('mn'))\n",
    "pfaf_learner = adaptive.BalancingLearner.from_product(\n",
    "    majorana_num, \n",
    "    learner_type, \n",
    "    dict(bounds=[(0, 0.05), (0.0,0.05)]),\n",
    "    pfaf_combos\n",
    ")"
   ]
  },
  {
   "cell_type": "code",
   "execution_count": 3,
   "id": "a37d8507-ec7d-4772-be6c-6ec3f1f59082",
   "metadata": {},
   "outputs": [],
   "source": [
    "pfaf_runner = adaptive.Runner(pfaf_learner)"
   ]
  },
  {
   "cell_type": "code",
   "execution_count": 15,
   "id": "f9f7a7bd-931c-4aeb-8878-0160ddc667ec",
   "metadata": {},
   "outputs": [
    {
     "name": "stdout",
     "output_type": "stream",
     "text": [
      "136\n"
     ]
    }
   ],
   "source": [
    "print(len(pfaf_learner.data))"
   ]
  },
  {
   "cell_type": "code",
   "execution_count": 16,
   "id": "2029cf0c-181e-4acb-abb1-8b054069bbae",
   "metadata": {},
   "outputs": [],
   "source": [
    "xys_mn, zs_mn = zip(*sorted(pfaf_learner.learners[0].data.items()))"
   ]
  },
  {
   "cell_type": "code",
   "execution_count": 17,
   "id": "b995c4f7-ff0a-466e-9c7f-6700717afc3f",
   "metadata": {},
   "outputs": [],
   "source": [
    "xys_mn=1000*np.array(xys_mn)\n",
    "zs_mn=np.array(zs_mn)"
   ]
  },
  {
   "cell_type": "code",
   "execution_count": 18,
   "id": "fa306f39-5342-4012-bbc1-82ce4d452066",
   "metadata": {},
   "outputs": [
    {
     "data": {
      "image/png": "[encoded data removed]",
      "text/plain": [
       "<Figure size 432x288 with 2 Axes>"
      ]
     },
     "metadata": {
      "needs_background": "light"
     },
     "output_type": "display_data"
    }
   ],
   "source": [
    "from scipy.interpolate import NearestNDInterpolator\n",
    "import matplotlib.pyplot as plt\n",
    "X = np.linspace(0, 50, 501)\n",
    "Y = np.linspace(0, 50, 501)\n",
    "X, Y = np.meshgrid(X, Y)  # 2D grid for interpolation\n",
    "interp = NearestNDInterpolator(xys_mn, zs_mn)\n",
    "Z = interp(X, Y)\n",
    "# plt.pcolormesh(X, Y, Z, shading='auto')\n",
    "cs = plt.pcolormesh(X, Y, Z)\n",
    "# plt.legend()\n",
    "# plt.xlim(0,0.05)\n",
    "plt.colorbar()\n",
    "plt.show()"
   ]
  },
  {
   "cell_type": "code",
   "execution_count": null,
   "id": "b459727e-4a9b-4f61-9e4f-f162c1f1664d",
   "metadata": {},
   "outputs": [],
   "source": []
  }
 ],
 "metadata": {
  "kernelspec": {
   "display_name": "Python 3",
   "language": "python",
   "name": "python3"
  },
  "language_info": {
   "codemirror_mode": {
    "name": "ipython",
    "version": 3
   },
   "file_extension": ".py",
   "mimetype": "text/x-python",
   "name": "python",
   "nbconvert_exporter": "python",
   "pygments_lexer": "ipython3",
   "version": "3.7.6"
  }
 },
 "nbformat": 4,
 "nbformat_minor": 5
}
