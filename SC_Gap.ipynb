{
 "cells": [
  {
   "cell_type": "code",
   "execution_count": 1,
   "id": "ff393d72-4d62-4f8a-8e08-f890bb7d1e45",
   "metadata": {},
   "outputs": [
    {
     "name": "stderr",
     "output_type": "stream",
     "text": [
      "/Users/declanburke/opt/anaconda3/lib/python3.7/site-packages/kwant/solvers/default.py:18: RuntimeWarning: MUMPS is not available, SciPy built-in solver will be used as a fallback. Performance can be very poor in this case.\n",
      "  \"Performance can be very poor in this case.\", RuntimeWarning)\n"
     ]
    }
   ],
   "source": [
    "from systems import make_lead\n",
    "from funcs import get_default_params2\n",
    "import adaptive\n",
    "from operator import itemgetter\n",
    "import funcs\n",
    "from funcs import gap_search_k"
   ]
  },
  {
   "cell_type": "code",
   "execution_count": 2,
   "id": "b92e3eae-e78a-4fff-beff-e3808a90b569",
   "metadata": {},
   "outputs": [],
   "source": [
    "gap_combos = {\n",
    "    'Delta': [5e-3],\n",
    "    'W': [400]\n",
    "}\n",
    "\n",
    "learner_type = adaptive.make_datasaver(adaptive.Learner2D, arg_picker=itemgetter('gap'))\n",
    "gap_learner = adaptive.BalancingLearner.from_product(\n",
    "    gap_search_k, \n",
    "    learner_type, \n",
    "    dict(bounds=[(0, 0.05), (-0.05,0.05)]),\n",
    "    gap_combos\n",
    ")"
   ]
  },
  {
   "cell_type": "code",
   "execution_count": 3,
   "id": "17592a21-9b88-4cc3-9952-1d5536e79c38",
   "metadata": {},
   "outputs": [],
   "source": [
    "gap_runner = adaptive.Runner(gap_learner)"
   ]
  },
  {
   "cell_type": "code",
   "execution_count": 18,
   "id": "5b78049c-e832-46c1-9fe1-c4887761ca56",
   "metadata": {},
   "outputs": [
    {
     "data": {
      "text/plain": [
       "9"
      ]
     },
     "execution_count": 18,
     "metadata": {},
     "output_type": "execute_result"
    }
   ],
   "source": [
    "len(gap_learner.data)"
   ]
  },
  {
   "cell_type": "code",
   "execution_count": 5,
   "id": "47c61f95-1b36-475f-82f6-3f0be2439c1a",
   "metadata": {},
   "outputs": [],
   "source": [
    "# gap_search_k((0.01,0.01), 0.005, 400)"
   ]
  },
  {
   "cell_type": "markdown",
   "id": "93e922ba-3280-4ae2-9b3c-694d58d58294",
   "metadata": {},
   "source": [
    "# "
   ]
  }
 ],
 "metadata": {
  "kernelspec": {
   "display_name": "Python 3",
   "language": "python",
   "name": "python3"
  },
  "language_info": {
   "codemirror_mode": {
    "name": "ipython",
    "version": 3
   },
   "file_extension": ".py",
   "mimetype": "text/x-python",
   "name": "python",
   "nbconvert_exporter": "python",
   "pygments_lexer": "ipython3",
   "version": "3.7.6"
  }
 },
 "nbformat": 4,
 "nbformat_minor": 5
}
