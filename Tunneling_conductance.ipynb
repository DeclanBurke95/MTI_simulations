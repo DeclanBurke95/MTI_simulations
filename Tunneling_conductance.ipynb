{
 "cells": [
  {
   "cell_type": "code",
   "execution_count": 2,
   "metadata": {},
   "outputs": [],
   "source": [
    "from systems import syst_create_smti_tunnelling\n",
    "from funcs import get_params\n",
    "import kwant\n",
    "from funcs import tun_con\n",
    "import numpy as np"
   ]
  },
  {
   "cell_type": "code",
   "execution_count": 3,
   "metadata": {},
   "outputs": [],
   "source": [
    "fsyst=syst_create_smti_tunnelling(11000,400)\n",
    "params=get_params(0.02,0.015)\n",
    "params = dict(hbar=1,\n",
    "                        mu=0.02,\n",
    "                        V=0,\n",
    "                        mu_m=1.6,\n",
    "                        vF=3,#for Bi2Se3-based 3DTI, 10^15 canceled out with hbar\n",
    "                        m0=-0.005,\n",
    "                        m1=15,\n",
    "                        Msysz=0.015,\n",
    "                        Msysx=.0,\n",
    "                        Msysy=.0,\n",
    "                        Mz=0.1,\n",
    "                        Mx=.0,\n",
    "                        My=.0,\n",
    "                        a=10,\n",
    "                        phi_0=1.0,\n",
    "                        exp=np.exp,\n",
    "                        re=lambda x: x.real,\n",
    "                        im=lambda x: x.imag,\n",
    "                        Delta=lambda x: 0.005 if x >= 1000 else 0\n",
    "                        )"
   ]
  },
  {
   "cell_type": "code",
   "execution_count": 5,
   "metadata": {},
   "outputs": [
    {
     "name": "stderr",
     "output_type": "stream",
     "text": [
      "/Users/declanburke/opt/anaconda3/lib/python3.7/site-packages/kwant/solvers/common.py:820: VisibleDeprecationWarning: Creating an ndarray from ragged nested sequences (which is a list-or-tuple of lists-or-tuples-or ndarrays with different lengths or shapes) is deprecated. If you meant to do this, you must specify 'dtype=object' when creating the ndarray.\n",
      "  np.array(self.block_offsets)[list(self.in_leads)]\n",
      "/Users/declanburke/opt/anaconda3/lib/python3.7/site-packages/kwant/solvers/common.py:822: VisibleDeprecationWarning: Creating an ndarray from ragged nested sequences (which is a list-or-tuple of lists-or-tuples-or ndarrays with different lengths or shapes) is deprecated. If you meant to do this, you must specify 'dtype=object' when creating the ndarray.\n",
      "  np.array(self.block_offsets)[list(self.out_leads)]\n"
     ]
    },
    {
     "data": {
      "text/plain": [
       "1.9856659496728004"
      ]
     },
     "execution_count": 5,
     "metadata": {},
     "output_type": "execute_result"
    }
   ],
   "source": [
    "tun_con(fsyst, 0.0, get_params(0.02,0.015), 0, 0)"
   ]
  }
 ],
 "metadata": {
  "kernelspec": {
   "display_name": "Python 3",
   "language": "python",
   "name": "python3"
  },
  "language_info": {
   "codemirror_mode": {
    "name": "ipython",
    "version": 3
   },
   "file_extension": ".py",
   "mimetype": "text/x-python",
   "name": "python",
   "nbconvert_exporter": "python",
   "pygments_lexer": "ipython3",
   "version": "3.7.6"
  }
 },
 "nbformat": 4,
 "nbformat_minor": 4
}
