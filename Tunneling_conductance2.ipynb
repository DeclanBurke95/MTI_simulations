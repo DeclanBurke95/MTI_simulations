{
 "cells": [
  {
   "cell_type": "code",
   "execution_count": 1,
   "id": "ae0229e9-3aee-43ac-8b4c-602bc34ae32a",
   "metadata": {},
   "outputs": [
    {
     "name": "stderr",
     "output_type": "stream",
     "text": [
      "/Users/declanburke/opt/anaconda3/lib/python3.7/site-packages/kwant/solvers/default.py:18: RuntimeWarning: MUMPS is not available, SciPy built-in solver will be used as a fallback. Performance can be very poor in this case.\n",
      "  \"Performance can be very poor in this case.\", RuntimeWarning)\n"
     ]
    }
   ],
   "source": [
    "from systems import get_disorder\n",
    "from systems import get_S_imp\n",
    "from systems import get_mti_hamiltonian\n",
    "from systems import syst_create_smti_tunnelling\n",
    "from systems import get_S_imp\n",
    "from funcs import tun_con\n",
    "import numpy as np\n",
    "from funcs import get_default_params2"
   ]
  },
  {
   "cell_type": "code",
   "execution_count": 2,
   "id": "b5522794-99f0-4532-93fd-706b78341ae1",
   "metadata": {},
   "outputs": [],
   "source": [
    "# Create system, include disorder \n",
    "fsyst=syst_create_smti_tunnelling(11000, 400, True)\n",
    "params=get_default_params2()\n",
    "params.update(disorder_imp=get_disorder(2, 35, 11000, 400, 100))"
   ]
  },
  {
   "cell_type": "code",
   "execution_count": null,
   "id": "bef5a6d1-2f6e-4288-9c8b-dd0e820e5bf6",
   "metadata": {},
   "outputs": [],
   "source": [
    "tun_con(fsyst, 0, params)"
   ]
  }
 ],
 "metadata": {
  "kernelspec": {
   "display_name": "Python 3",
   "language": "python",
   "name": "python3"
  },
  "language_info": {
   "codemirror_mode": {
    "name": "ipython",
    "version": 3
   },
   "file_extension": ".py",
   "mimetype": "text/x-python",
   "name": "python",
   "nbconvert_exporter": "python",
   "pygments_lexer": "ipython3",
   "version": "3.7.6"
  }
 },
 "nbformat": 4,
 "nbformat_minor": 5
}
