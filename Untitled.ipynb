{
 "cells": [
  {
   "cell_type": "code",
   "execution_count": 1,
   "metadata": {},
   "outputs": [
    {
     "name": "stderr",
     "output_type": "stream",
     "text": [
      "/Users/declanburke/opt/anaconda3/lib/python3.7/site-packages/kwant/solvers/default.py:18: RuntimeWarning: MUMPS is not available, SciPy built-in solver will be used as a fallback. Performance can be very poor in this case.\n",
      "  \"Performance can be very poor in this case.\", RuntimeWarning)\n"
     ]
    }
   ],
   "source": [
    "# from funcs import get_hamiltonian\n",
    "import kwant\n",
    "import numpy as np\n",
    "from systems import get_S_imp\n",
    "from systems import get_mti_hamiltonian\n",
    "# from funcs import get_shape\n",
    "from systems import syst_create_mti\n",
    "# from funcs import normal_conductance\n",
    "from systems import shape\n",
    "from funcs import get_default_params\n",
    "from funcs import normal_conductance\n",
    "from systems import hamiltonian_tip\n",
    "from systems import shape_pointcontact\n",
    "from systems import syst_create_smti_tunnelling\n",
    "from systems import syst_create_smti\n",
    "from funcs import calc_energies\n",
    "import pandas as pd\n",
    "import matplotlib.pyplot as plt"
   ]
  },
  {
   "cell_type": "code",
   "execution_count": 2,
   "metadata": {},
   "outputs": [],
   "source": [
    "def smti_wavefunctions(L, W, dis, params, n_orb, n_states):\n",
    "    fsyst=syst_create_smti(L, W, dis)\n",
    "    energies, states, densities=calc_energies(syst_create_smti(L, W, dis), params, n_orb, n_states)\n",
    "    return densities"
   ]
  },
  {
   "cell_type": "code",
   "execution_count": 13,
   "metadata": {},
   "outputs": [
    {
     "data": {
      "text/plain": [
       "array([[6.33906327e-05, 6.33906327e-05, 5.23366385e-05, 5.23366385e-05],\n",
       "       [9.88972515e-05, 9.88972515e-05, 8.15980930e-05, 8.15980930e-05],\n",
       "       [1.36542872e-04, 1.36542872e-04, 1.12649529e-04, 1.12649529e-04],\n",
       "       ...,\n",
       "       [1.37173884e-04, 1.37173884e-04, 1.12463890e-04, 1.12463890e-04],\n",
       "       [9.94346118e-05, 9.94346118e-05, 8.15347498e-05, 8.15347498e-05],\n",
       "       [6.38054194e-05, 6.38054194e-05, 5.23548058e-05, 5.23548058e-05]])"
      ]
     },
     "execution_count": 13,
     "metadata": {},
     "output_type": "execute_result"
    }
   ],
   "source": [
    "params=get_default_params()\n",
    "params.update(mu=0.02)\n",
    "smti_wavefunctions(1100, 400, False, params, 8, 4)"
   ]
  },
  {
   "cell_type": "code",
   "execution_count": 11,
   "metadata": {},
   "outputs": [],
   "source": [
    "fsyst=syst_create_smti(1100,400, False)"
   ]
  },
  {
   "cell_type": "code",
   "execution_count": 12,
   "metadata": {},
   "outputs": [],
   "source": [
    "energies, states, densities=calc_energies(syst_create_smti(1100,400, False), params, 8, 4)"
   ]
  },
  {
   "cell_type": "code",
   "execution_count": null,
   "metadata": {},
   "outputs": [],
   "source": [
    "sitesx_list=np.array([site.pos[0] for site in fsyst.sites])\n",
    "sitesy_list=np.array([site.pos[1] for site in fsyst.sites])\n",
    "\n",
    "# WF=densities[0]+densities[1]\n",
    "# mesh=np.vstack((sitesx_list, sitesy_list ,WF))\n",
    "# mesh.shape\n",
    "\n",
    "wfs1=[]\n",
    "wfs2=[]\n",
    "for x in range(len(sitesx_list)):\n",
    "    wfs1.append(densities[x][0])\n",
    "    wfs2.append(densities[x][1])\n",
    "    \n",
    "WFS1=np.array(wfs1) \n",
    "WFS2=np.array(wfs2) \n",
    "# x1=WFS1.reshape(1,45141)\n",
    "# x2=WFS2.reshape(1,45141)\n",
    "WF=WFS1+WFS2\n",
    "WFplot=WF.reshape(1101,41)\n",
    "\n",
    "mesh=np.vstack((sitesx_list, sitesy_list ,WF)).T\n",
    "mesh.shape\n",
    "\n",
    "values=pd.DataFrame(data=mesh, columns=['sitesx_list', 'sitesy_list', 'WF']).groupby(['sitesx_list']).mean()"
   ]
  },
  {
   "cell_type": "code",
   "execution_count": null,
   "metadata": {},
   "outputs": [],
   "source": [
    "sitesx_list=np.array([site.pos[0] for site in fsyst.sites])\n",
    "sitesy_list=np.array([site.pos[1] for site in fsyst.sites])\n",
    "# len(sitesx_list)\n",
    "len(sitesy_list)"
   ]
  },
  {
   "cell_type": "code",
   "execution_count": null,
   "metadata": {},
   "outputs": [],
   "source": [
    "xvals=np.linspace(0,1100,1101)\n",
    "plt.plot(xvals,values['WF'])"
   ]
  },
  {
   "cell_type": "code",
   "execution_count": null,
   "metadata": {},
   "outputs": [],
   "source": [
    "ham=get_mti_hamiltonian(material='mti', ph_symmetry=True)\n",
    "ham"
   ]
  },
  {
   "cell_type": "code",
   "execution_count": null,
   "metadata": {},
   "outputs": [],
   "source": [
    "fsyst=syst_create_mti(1100, 400)"
   ]
  },
  {
   "cell_type": "code",
   "execution_count": null,
   "metadata": {},
   "outputs": [],
   "source": [
    "params = get_params(0.015)\n",
    "\n",
    "smatrix = kwant.smatrix(fsyst, energy=0.05, params = params)\n",
    "smatrix.transmission((1, 0), (0,0))"
   ]
  },
  {
   "cell_type": "code",
   "execution_count": null,
   "metadata": {},
   "outputs": [],
   "source": []
  },
  {
   "cell_type": "code",
   "execution_count": null,
   "metadata": {},
   "outputs": [],
   "source": [
    "normal_conductance(0.05, fsyst, params)"
   ]
  },
  {
   "cell_type": "code",
   "execution_count": null,
   "metadata": {},
   "outputs": [],
   "source": [
    "sfqef3"
   ]
  },
  {
   "cell_type": "code",
   "execution_count": null,
   "metadata": {},
   "outputs": [],
   "source": [
    "params = dict(hbar=1,\n",
    "                    V=0,\n",
    "                    mu_m=1.6,\n",
    "                    vF=3,#for Bi2Se3-based 3DTI, 10^15 canceled out with hbar\n",
    "                    m0=-0.005,\n",
    "                    m1=15,\n",
    "                    Msysz=0.015,\n",
    "                    Msysx=.0,\n",
    "                    Msysy=.0,\n",
    "                    Mz=0.1,\n",
    "                    Mx=.0,\n",
    "                    My=.0,\n",
    "                    a=10,\n",
    "                    phi_0=1.0,\n",
    "                    exp=np.exp,\n",
    "                    re=lambda x: x.real,\n",
    "                    im=lambda x: x.imag,\n",
    "                    Delta=lambda x: 0.005 if x >= 1000 else 0)"
   ]
  },
  {
   "cell_type": "code",
   "execution_count": null,
   "metadata": {},
   "outputs": [],
   "source": [
    "normal_conductance(fsyst, 0.01, params) "
   ]
  },
  {
   "cell_type": "code",
   "execution_count": null,
   "metadata": {},
   "outputs": [],
   "source": [
    "smatrix = kwant.smatrix(fsyst, energy=0.01, params = params)\n",
    "smatrix.transmission((1, 0), (0,0))"
   ]
  },
  {
   "cell_type": "code",
   "execution_count": null,
   "metadata": {},
   "outputs": [],
   "source": [
    "def get_mti_hamiltonian(material='mti', ph_symmetry=True):\n",
    "    a=10\n",
    "    \n",
    "    \n",
    "def test(x,ph_symmetry=True):\n",
    "    if ph_symmetry:\n",
    "        return x\n",
    "    else:\n",
    "        return x+1"
   ]
  },
  {
   "cell_type": "code",
   "execution_count": null,
   "metadata": {},
   "outputs": [],
   "source": [
    "test(1, ph_symmetry=True)"
   ]
  },
  {
   "cell_type": "code",
   "execution_count": null,
   "metadata": {},
   "outputs": [],
   "source": [
    "def positive_input(func):\n",
    "    def wrapper(x):\n",
    "        if x <= 0:\n",
    "            raise ValueError(\"Input must be positive\")\n",
    "        return func(x)\n",
    "    return wrapper\n",
    "\n",
    "@positive_input\n",
    "def square(x):\n",
    "    return x**2"
   ]
  },
  {
   "cell_type": "code",
   "execution_count": null,
   "metadata": {},
   "outputs": [],
   "source": [
    "square(2)"
   ]
  },
  {
   "cell_type": "code",
   "execution_count": null,
   "metadata": {},
   "outputs": [],
   "source": [
    "square(-2)"
   ]
  },
  {
   "cell_type": "code",
   "execution_count": null,
   "metadata": {},
   "outputs": [],
   "source": [
    "def square(x):\n",
    "    return x**2"
   ]
  },
  {
   "cell_type": "code",
   "execution_count": null,
   "metadata": {},
   "outputs": [],
   "source": [
    "square(-2)"
   ]
  },
  {
   "cell_type": "code",
   "execution_count": null,
   "metadata": {},
   "outputs": [],
   "source": [
    "def test(x,y):\n",
    "    return (x+y)\n",
    "\n",
    "def test2(z):\n",
    "    return *test(x+y)+z"
   ]
  },
  {
   "cell_type": "code",
   "execution_count": null,
   "metadata": {},
   "outputs": [],
   "source": [
    "test(1,2)"
   ]
  },
  {
   "cell_type": "code",
   "execution_count": null,
   "metadata": {},
   "outputs": [],
   "source": [
    "test2(x)"
   ]
  },
  {
   "cell_type": "code",
   "execution_count": null,
   "metadata": {},
   "outputs": [],
   "source": [
    "shape()"
   ]
  },
  {
   "cell_type": "code",
   "execution_count": null,
   "metadata": {},
   "outputs": [],
   "source": []
  },
  {
   "cell_type": "code",
   "execution_count": null,
   "metadata": {},
   "outputs": [],
   "source": []
  },
  {
   "cell_type": "code",
   "execution_count": null,
   "metadata": {},
   "outputs": [],
   "source": [
    "fsyst=syst_create_smti_tunnelling(11000, 400)"
   ]
  },
  {
   "cell_type": "code",
   "execution_count": null,
   "metadata": {},
   "outputs": [],
   "source": [
    "def conductance_old(fsyst, energy=0, params, 0, 1):\n",
    "      m_eff=0.1\n",
    "      params.update(dict(C_m=3.81/m_eff))\n",
    "      smatrix = kwant.smatrix(fsyst, energy, params=params)\n",
    "      N_e = smatrix.submatrix((lead_in, 0), (lead_in, 0)).shape[0]\n",
    "      r_ee = smatrix.transmission((lead_out, 0), (lead_in, 0))\n",
    "      r_he = smatrix.transmission((lead_out, 1), (lead_in, 0))\n",
    "\n",
    "      return N_e, r_ee, r_he"
   ]
  },
  {
   "cell_type": "code",
   "execution_count": null,
   "metadata": {},
   "outputs": [],
   "source": [
    "params=get_params(0.02,0.015)\n",
    "lead_in=0\n",
    "lead_out=1\n",
    "m_eff=0.1\n",
    "params.update(dict(C_m=3.81/m_eff))\n",
    "smatrix = kwant.smatrix(fsyst, 0, params=params)\n",
    "N_e = smatrix.submatrix((lead_in, 0), (lead_in, 0)).shape[0]\n",
    "r_ee = smatrix.transmission((lead_out, 0), (lead_in, 0))\n",
    "r_he = smatrix.transmission((lead_out, 1), (lead_in, 0))"
   ]
  },
  {
   "cell_type": "code",
   "execution_count": null,
   "metadata": {},
   "outputs": [],
   "source": []
  }
 ],
 "metadata": {
  "kernelspec": {
   "display_name": "Python 3",
   "language": "python",
   "name": "python3"
  },
  "language_info": {
   "codemirror_mode": {
    "name": "ipython",
    "version": 3
   },
   "file_extension": ".py",
   "mimetype": "text/x-python",
   "name": "python",
   "nbconvert_exporter": "python",
   "pygments_lexer": "ipython3",
   "version": "3.7.6"
  }
 },
 "nbformat": 4,
 "nbformat_minor": 4
}
